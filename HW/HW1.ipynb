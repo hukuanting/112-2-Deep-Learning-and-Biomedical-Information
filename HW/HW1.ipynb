{
  "nbformat": 4,
  "nbformat_minor": 0,
  "metadata": {
    "colab": {
      "provenance": []
    },
    "kernelspec": {
      "name": "python3",
      "display_name": "Python 3"
    },
    "language_info": {
      "name": "python"
    }
  },
  "cells": [
    {
      "cell_type": "markdown",
      "source": [
        "安裝及載入所需資料"
      ],
      "metadata": {
        "id": "LglCeLjL8Cam"
      }
    },
    {
      "cell_type": "code",
      "execution_count": null,
      "metadata": {
        "id": "QrNH1afx_maq",
        "colab": {
          "base_uri": "https://localhost:8080/"
        },
        "outputId": "98b1f83e-4399-4f31-9c14-95afb7fa669c"
      },
      "outputs": [
        {
          "output_type": "stream",
          "name": "stdout",
          "text": [
            "Collecting pysam\n",
            "  Downloading pysam-0.22.0-cp310-cp310-manylinux_2_28_x86_64.whl (21.9 MB)\n",
            "\u001b[2K     \u001b[90m━━━━━━━━━━━━━━━━━━━━━━━━━━━━━━━━━━━━━━━━\u001b[0m \u001b[32m21.9/21.9 MB\u001b[0m \u001b[31m42.1 MB/s\u001b[0m eta \u001b[36m0:00:00\u001b[0m\n",
            "\u001b[?25hInstalling collected packages: pysam\n",
            "Successfully installed pysam-0.22.0\n",
            "Retrieving folder contents\n",
            "Retrieving folder 1ABzlrPT7-fsz7ccIJRQML7_OdkMXut63 __MACOSX\n",
            "Processing file 1743PVD5_s-qCSQ0QoKQ96IaoFi6RJJ_N ._D2-ChIP\n",
            "Retrieving folder 1T5T9R8Nw1p4-ZkzPpfa2RrmD0n-qgQcc D2-ChIP\n",
            "Processing file 1Zh0B3OglcYjDUPdAZheJW3JXaxp4wV_m ._.DS_Store\n",
            "Retrieving folder 1feWmYk0pOKRmHX3iN_BDC6gh7mJFuNVU D2-ChIP\n",
            "Processing file 1g6MvpnSeND8qKR_Bhj3jTCVB5UHcrGzn .DS_Store\n",
            "Retrieving folder 1FhiNJhlS91IGhykvIa-QthwLbMf6F9cd D2\n",
            "Processing file 128sJrNUAkFjgeUdIlNobhXyOHEYpFpCT 4.fa\n",
            "Processing file 1YD3qUQCemCpF-as-D3FwFstFk8PnEEHp ans_chr4.pickle\n",
            "Processing file 1XlD69g_gWimPmcv4CYIbGi_w1jOpCIwA SRR060778.fastq.bam\n",
            "Processing file 1unN05Oyu7yrmDI2VI-dUXXXJqKr7jhAN test_ChIP.py\n",
            "Processing file 1RUCQEeg2eYjTxbZNnCUF-asn_3TXAxlk X.fa\n",
            "Retrieving folder contents completed\n",
            "Building directory structure\n",
            "Building directory structure completed\n",
            "Downloading...\n",
            "From: https://drive.google.com/uc?id=1743PVD5_s-qCSQ0QoKQ96IaoFi6RJJ_N\n",
            "To: /content/D2-ChIP/__MACOSX/._D2-ChIP\n",
            "100% 220/220 [00:00<00:00, 899kB/s]\n",
            "Downloading...\n",
            "From: https://drive.google.com/uc?id=1Zh0B3OglcYjDUPdAZheJW3JXaxp4wV_m\n",
            "To: /content/D2-ChIP/__MACOSX/D2-ChIP/._.DS_Store\n",
            "100% 120/120 [00:00<00:00, 414kB/s]\n",
            "Downloading...\n",
            "From: https://drive.google.com/uc?id=1g6MvpnSeND8qKR_Bhj3jTCVB5UHcrGzn\n",
            "To: /content/D2-ChIP/D2-ChIP/.DS_Store\n",
            "100% 6.15k/6.15k [00:00<00:00, 22.9MB/s]\n",
            "Downloading...\n",
            "From: https://drive.google.com/uc?id=128sJrNUAkFjgeUdIlNobhXyOHEYpFpCT\n",
            "To: /content/D2-ChIP/D2-ChIP/D2/4.fa\n",
            "100% 1.37M/1.37M [00:00<00:00, 121MB/s]\n",
            "Downloading...\n",
            "From: https://drive.google.com/uc?id=1YD3qUQCemCpF-as-D3FwFstFk8PnEEHp\n",
            "To: /content/D2-ChIP/D2-ChIP/D2/ans_chr4.pickle\n",
            "100% 12.1M/12.1M [00:00<00:00, 126MB/s]\n",
            "Downloading...\n",
            "From (original): https://drive.google.com/uc?id=1XlD69g_gWimPmcv4CYIbGi_w1jOpCIwA\n",
            "From (redirected): https://drive.google.com/uc?id=1XlD69g_gWimPmcv4CYIbGi_w1jOpCIwA&confirm=t&uuid=015f2224-63b6-4990-aa68-550b4aa5f6bd\n",
            "To: /content/D2-ChIP/D2-ChIP/D2/SRR060778.fastq.bam\n",
            "100% 327M/327M [00:06<00:00, 47.3MB/s]\n",
            "Downloading...\n",
            "From (original): https://drive.google.com/uc?id=1unN05Oyu7yrmDI2VI-dUXXXJqKr7jhAN\n",
            "From (redirected): https://drive.google.com/uc?id=1unN05Oyu7yrmDI2VI-dUXXXJqKr7jhAN&confirm=t&uuid=712868da-48ba-463c-8a9c-85ef71eb5382\n",
            "To: /content/D2-ChIP/D2-ChIP/D2/test_ChIP.py\n",
            "100% 330/330 [00:00<00:00, 1.59MB/s]\n",
            "Downloading...\n",
            "From: https://drive.google.com/uc?id=1RUCQEeg2eYjTxbZNnCUF-asn_3TXAxlk\n",
            "To: /content/D2-ChIP/D2-ChIP/D2/X.fa\n",
            "100% 23.8M/23.8M [00:00<00:00, 127MB/s] \n",
            "Download completed\n"
          ]
        }
      ],
      "source": [
        "!pip install pysam\n",
        "import pysam\n",
        "import math\n",
        "import gdown\n",
        "import numpy as np\n",
        "import pickle\n",
        "!gdown --folder 1vVfuNh9coeT3U3qSAJBlyXA7WZspDPSN"
      ]
    },
    {
      "cell_type": "markdown",
      "source": [
        "讀取X.fa，將其變為ref_seq"
      ],
      "metadata": {
        "id": "oWzzumHC8PKF"
      }
    },
    {
      "cell_type": "code",
      "source": [
        "def read_fasta_file(file_path):\n",
        "    sequences = \"\"\n",
        "    with open(file_path, 'r') as f:\n",
        "        for line in f:\n",
        "            sequences += line.strip()\n",
        "    return sequences\n",
        "\n",
        "fasta_file_path = '/content/D2-ChIP/D2-ChIP/D2/4.fa'\n",
        "\n",
        "ref_seq = read_fasta_file(fasta_file_path)\n",
        "ref_seq = ref_seq.split('Dmel;')[1] #保留ATCG部分\n",
        "map_seq = np.zeros(len(ref_seq))+1e-6 #創建一個長度和ref_seq相同的矩陣存取mapping_count"
      ],
      "metadata": {
        "id": "r5EYS6dYh-o3"
      },
      "execution_count": null,
      "outputs": []
    },
    {
      "cell_type": "markdown",
      "source": [
        "讀取.bam檔，透過迴圈篩選X染色體，計算read_count和更新map_seq"
      ],
      "metadata": {
        "id": "3i6PNSjv8zCF"
      }
    },
    {
      "cell_type": "code",
      "source": [
        "doc_path = '/content/D2-ChIP/D2-ChIP/D2/SRR060778.fastq.bam'\n",
        "sam_file = pysam.AlignmentFile(doc_path,'rb')\n",
        "read_cnt = 1e-6\n",
        "\n",
        "for read in sam_file:\n",
        "\n",
        "  start=read.pos # zero-base start (pass read if line.pos ==-1)\n",
        "  seq=read.query_sequence # (get seq)\n",
        "  chromosome=read.reference_name # (get chromosome)\n",
        "\n",
        "  if chromosome=='4':\n",
        "    read_cnt+=1\n",
        "    end = start+len(seq)-1\n",
        "    map_seq[start:end+1] = map_seq[start:end+1] + 1"
      ],
      "metadata": {
        "id": "kcrkwqg1kMBR",
        "colab": {
          "base_uri": "https://localhost:8080/"
        },
        "outputId": "1d2c764b-1e36-450c-fe60-e68f30897f6e"
      },
      "execution_count": null,
      "outputs": [
        {
          "output_type": "stream",
          "name": "stdout",
          "text": [
            "SRR060778.26\t0\t#4\t659561\t255\t36M\t*\t0\t0\tAAACAGAAATTAGAAATTAATATCTATTGCCAGAAT\tarray('B', [40, 40, 40, 40, 40, 40, 40, 40, 40, 40, 40, 40, 40, 40, 40, 40, 40, 40, 40, 40, 40, 40, 40, 40, 40, 40, 40, 40, 40, 40, 40, 40, 40, 40, 40, 40])\t[('XA', 0), ('MD', '36'), ('NM', 0)]\n",
            "SRR060778.38\t16\t#4\t535788\t255\t36M\t*\t0\t0\tTTGTATGAATGTTATCAATCCGAAGCAAATACAAGT\tarray('B', [40, 10, 40, 36, 40, 40, 40, 40, 40, 40, 40, 40, 40, 40, 40, 40, 40, 40, 40, 40, 40, 40, 40, 40, 6, 40, 40, 40, 40, 40, 3, 40, 40, 40, 40, 40])\t[('XA', 2), ('MD', '24T5C5'), ('NM', 2)]\n",
            "SRR060778.190\t16\t#4\t497919\t255\t36M\t*\t0\t0\tTCAGTTTGTATGTTGACAAGGGAATGTGTACCCAAC\tarray('B', [40, 40, 40, 40, 40, 40, 40, 40, 40, 40, 40, 40, 40, 40, 40, 40, 40, 40, 40, 40, 40, 40, 40, 40, 40, 40, 40, 40, 40, 40, 40, 40, 40, 40, 40, 40])\t[('XA', 0), ('MD', '36'), ('NM', 0)]\n",
            "SRR060778.196\t0\t#4\t1330589\t255\t36M\t*\t0\t0\tGCTGGGCTTGGGTTTGTGTCTTGGGCGGCATGCAAT\tarray('B', [40, 40, 40, 40, 40, 40, 40, 40, 40, 40, 40, 40, 40, 40, 40, 40, 40, 40, 40, 40, 40, 40, 40, 40, 40, 40, 40, 40, 40, 40, 40, 40, 40, 40, 40, 40])\t[('XA', 1), ('MD', '5A22G7'), ('NM', 2)]\n",
            "SRR060778.513\t16\t#4\t664206\t255\t36M\t*\t0\t0\tGAAACTCAAACCCAATCTGTCGTTGGTACGGACGTT\tarray('B', [40, 40, 40, 40, 40, 40, 40, 40, 40, 40, 40, 40, 40, 40, 40, 32, 40, 40, 40, 40, 40, 40, 40, 40, 40, 40, 40, 40, 40, 40, 40, 40, 40, 40, 40, 40])\t[('XA', 0), ('MD', '36'), ('NM', 0)]\n",
            "SRR060778.554\t0\t#4\t693543\t255\t36M\t*\t0\t0\tAACTTTCATCAAAAAAATCAGTCATTATGTGGTCGC\tarray('B', [40, 40, 40, 40, 40, 40, 40, 40, 40, 40, 40, 40, 40, 40, 40, 40, 40, 40, 40, 8, 40, 40, 40, 40, 40, 40, 40, 40, 40, 40, 40, 40, 40, 40, 40, 40])\t[('XA', 0), ('MD', '36'), ('NM', 0)]\n",
            "SRR060778.582\t16\t#4\t662633\t255\t36M\t*\t0\t0\tTACATTGCAGCGAATCTAATACATATACGATTTTAC\tarray('B', [27, 40, 40, 40, 40, 39, 40, 16, 40, 40, 40, 40, 40, 40, 40, 40, 40, 40, 40, 40, 40, 40, 40, 40, 40, 40, 40, 40, 40, 40, 40, 40, 40, 40, 40, 40])\t[('XA', 0), ('MD', '36'), ('NM', 0)]\n",
            "SRR060778.611\t0\t#4\t315593\t255\t36M\t*\t0\t0\tAAATATCCTTAAAAGTAAAGTCCAATGTCAATGTAG\tarray('B', [40, 40, 40, 40, 40, 40, 40, 40, 40, 40, 40, 40, 40, 40, 40, 40, 40, 40, 40, 40, 40, 40, 40, 40, 40, 40, 40, 40, 40, 40, 40, 40, 40, 40, 40, 31])\t[('XA', 0), ('MD', '36'), ('NM', 0)]\n",
            "SRR060778.691\t0\t#4\t930553\t255\t36M\t*\t0\t0\tACAAAAAATACAAATGTTAAGAATTCCACTTTCAGT\tarray('B', [40, 40, 40, 40, 40, 40, 39, 40, 40, 40, 40, 32, 16, 40, 40, 40, 40, 40, 40, 40, 40, 40, 40, 40, 40, 40, 40, 40, 40, 40, 40, 40, 10, 9, 40, 40])\t[('XA', 0), ('MD', '32A3'), ('NM', 1)]\n"
          ]
        }
      ]
    },
    {
      "cell_type": "markdown",
      "source": [
        "用 map_seq 和 read_cnt 得到 ChIP score"
      ],
      "metadata": {
        "id": "pVq1SfB29b2W"
      }
    },
    {
      "cell_type": "code",
      "source": [
        "chip_seq = (np.log((map_seq/read_cnt)))\n",
        "chip_seq = list(chip_seq) # array 轉 list"
      ],
      "metadata": {
        "id": "CyasNM5Zlf7M"
      },
      "execution_count": null,
      "outputs": []
    },
    {
      "cell_type": "markdown",
      "source": [
        "將ChIP score儲存成新的pickle檔案"
      ],
      "metadata": {
        "id": "WzyTi9R799dD"
      }
    },
    {
      "cell_type": "code",
      "source": [
        "Ans_array = chip_seq # data type=list !!\n",
        "print(Ans_array[:100])\n",
        "\n",
        "with open('ans.pickle','wb') as f:\n",
        "  pickle.dump(Ans_array,f)"
      ],
      "metadata": {
        "id": "s9z5HmoqoBH1",
        "colab": {
          "base_uri": "https://localhost:8080/"
        },
        "outputId": "33e4435a-f156-4938-aba3-de7f3ca70a5f"
      },
      "execution_count": null,
      "outputs": [
        {
          "output_type": "stream",
          "name": "stdout",
          "text": [
            "[-24.67208353822231, -24.67208353822231, -24.67208353822231, -24.67208353822231, -24.67208353822231, -24.67208353822231, -24.67208353822231, -24.67208353822231, -24.67208353822231, -24.67208353822231, -24.67208353822231, -24.67208353822231, -24.67208353822231, -24.67208353822231, -24.67208353822231, -24.67208353822231, -24.67208353822231, -24.67208353822231, -24.67208353822231, -24.67208353822231, -24.67208353822231, -24.67208353822231, -24.67208353822231, -24.67208353822231, -24.67208353822231, -24.67208353822231, -24.67208353822231, -24.67208353822231, -24.67208353822231, -24.67208353822231, -24.67208353822231, -24.67208353822231, -24.67208353822231, -24.67208353822231, -24.67208353822231, -24.67208353822231, -24.67208353822231, -24.67208353822231, -24.67208353822231, -24.67208353822231, -24.67208353822231, -24.67208353822231, -24.67208353822231, -24.67208353822231, -24.67208353822231, -24.67208353822231, -24.67208353822231, -24.67208353822231, -24.67208353822231, -24.67208353822231, -24.67208353822231, -24.67208353822231, -24.67208353822231, -24.67208353822231, -24.67208353822231, -24.67208353822231, -24.67208353822231, -24.67208353822231, -24.67208353822231, -24.67208353822231, -24.67208353822231, -24.67208353822231, -24.67208353822231, -24.67208353822231, -24.67208353822231, -24.67208353822231, -24.67208353822231, -24.67208353822231, -24.67208353822231, -24.67208353822231, -24.67208353822231, -24.67208353822231, -24.67208353822231, -24.67208353822231, -24.67208353822231, -24.67208353822231, -24.67208353822231, -24.67208353822231, -24.67208353822231, -24.67208353822231, -24.67208353822231, -24.67208353822231, -24.67208353822231, -24.67208353822231, -24.67208353822231, -24.67208353822231, -24.67208353822231, -24.67208353822231, -24.67208353822231, -24.67208353822231, -24.67208353822231, -24.67208353822231, -24.67208353822231, -24.67208353822231, -24.67208353822231, -24.67208353822231, -24.67208353822231, -24.67208353822231, -24.67208353822231, -24.67208353822231]\n"
          ]
        }
      ]
    },
    {
      "cell_type": "markdown",
      "source": [
        "驗證pickle檔是否正確 (請輸入答案路徑)"
      ],
      "metadata": {
        "id": "5NvvEAyN9186"
      }
    },
    {
      "cell_type": "code",
      "source": [
        "arr=[]\n",
        "arr2=[]\n",
        "p=input('ans.pickle path=')\n",
        "with open(p,'rb') as f:\n",
        "    arr=pickle.load(f)\n",
        "with open('/content/ans.pickle','rb') as f:\n",
        "    arr2=pickle.load(f)\n",
        "\n",
        "arr=np.array(arr, dtype = 'uint8')\n",
        "arr2=np.array(arr2, dtype = 'uint8')\n",
        "\n",
        "print((arr == arr2).all())"
      ],
      "metadata": {
        "id": "F_MgNWr7oKY1"
      },
      "execution_count": null,
      "outputs": []
    }
  ]
}